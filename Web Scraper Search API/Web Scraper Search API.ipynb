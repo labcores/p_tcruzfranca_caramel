{
 "cells": [
  {
   "cell_type": "markdown",
   "metadata": {},
   "source": [
    "# Web Scraper para busca do twitter\n",
    "\n",
    "Uma ferramenta para coletar tweets da busca por termos do twitter. São os tweets de toda a rede(incluindo usuários que seu perfil não segue) marcados pela palavra-chave ou hashtag selecionada. Você pode incluir mais de um termo numa busca, mas tenha cuidado, pois sua amostra muito provavelmente será reduzida.\n",
    "\n",
    "Este notebook é um guia! Você vai precisar rodar localmente o código, mas não pule essa etapa, pois é muito importante entender como funciona a ferramenta e como manipular os dados que você coletar.\n",
    "\n",
    "Para obter acesso ao código completo clone o repositório: git@github.com:edumangabeira/crawlersTwitter.git"
   ]
  },
  {
   "cell_type": "markdown",
   "metadata": {},
   "source": [
    "# Configurando o Ambiente\n",
    "Pré-requisitos básicos:\n",
    "\n",
    "1. Python3.x, pip3, tweepy, pymongo e mongoDB instalados.\n",
    "\n",
    "# Conseguindo acesso aos dados da API\n",
    "\n",
    "O Twitter se tornou mais restrito quanto a quem pode ter uma chave de acesso à sua API. É necessário pedir uma conta de desenvolvedor na página [apps.twitter.com] e justificar o seu uso.\n",
    "\n",
    "Entre na sua conta do Twitter e em seguida crie uma aplicação na página [https://developer.twitter.com/en/apps]. O nome e a descrição não importam muito, faça como quiser. Para preencher o campo 'website URL' use qualquer link, até um que não seja registrado. \n",
    "\n",
    "Infelizmente a burocracia não acabou e você precisa descrever qual é seu objetivo fazendo esse app, a boa notícia é o mínimo ser de apenas 100 caracteres.\n",
    "\n",
    "Ao final do processo, você terá à disposição algumas credenciais que iremos usar adiante.\n",
    "\n",
    "\n",
    "## Exemplo de credenciais\n",
    "\n",
    "#### É preciso mudar o trecho do código com as suas chaves\n",
    "\n",
    "Consumer_key = uQl2J9OpHkqXcBKdrNjU09UB0\n",
    "\n",
    "Consumer_secret = FdGsRUWESM3wrQVF6nDrOgsgi99CpwOvylA3yBt1m6EeJn1btg\n",
    "\n",
    "Acess_token = 772557411177623882-GtuCaR7jApm6BGUVsnjyGXQIiHfKjiy\n",
    "\n",
    "Acess_token_secret = d5n1VTrHIULSHSTF9VueoBOUZIlzsN7nFWkZkn0Ap1dPE2\n",
    "\n",
    "\n",
    "### Atenção!\n",
    "\n",
    "As credenciais acima são apenas ilustrativas. Quando você gerar suas credenciais, JAMAIS compartilhe elas em lugar algum.\n"
   ]
  },
  {
   "cell_type": "markdown",
   "metadata": {},
   "source": [
    "# Bibliotecas\n",
    "\n",
    "\n",
    "## Tweepy\n",
    "Usaremos o Tweepy para estabelecer a comunicação com a API do Twitter, os métodos utilizados podem ser bem simples, mas aqui queremos poder extrair o máximo da biblioteca. o Tweepy vai lidar com a autenticação pelo protocolo OAuth requerida pelo Twitter e também irá cuidar das requisições\n",
    "\n",
    "## Pymongo\n",
    "\n",
    "Essa biblioteca irá nos ajudar a salvar os tweets coletados num banco de dados MongoDB.\n",
    "\n",
    "## JSON\n",
    "\n",
    "A API do twitter fornece os tweets no formato JSON. Caso encontre alguma dificuldade em manipular ou entender o formato, confira esse artigo: https://pythonhelp.wordpress.com/2013/03/21/acessando-conteudo-via-apis-web-baseadas-em-json/\n",
    "\n",
    "\n",
    "# Acessando o mongoDB\n",
    "\n",
    "Agora vai uma explicação rápida sobre o banco mongo, você pode pular essa parte por enquanto, pois só vai poder testar depois que todo o código for executado e os dados obtidos.\n",
    "\n",
    "1) Para iniciar no seu terminal, basta digitar 'mongo'.\n",
    "\n",
    "2) Primeiro é preciso ver quais bancos estão sendo usados na sua máquina, o comando a ser usado é 'show dbs'.\n",
    "\n",
    "3) Para usar um banco: 'use {insira aqui um banco, sem chaves}'\n",
    "\n",
    "4) Agora temos que selecionar uma coleção do nosso banco, para ver as coleções: 'show collections'.\n",
    "\n",
    "5) Existem diferentes formas de acessar os dados, vou citar algumas.\n",
    "\n",
    "5.1) 'db.{sua collection}.find()' mostra alguns tweets, é útil para verificar rapidamente erros em parâmetros. Também é possível filtrar a procura, para saber com mais detalhes veja em: https://docs.mongodb.com/manual/reference/method/db.collection.find/\n",
    "\n",
    "5.2) 'db.{sua collection}.findOne()' mostra apenas um tweet e também pode filtrar a busca(recomendado nesse caso).\n",
    "\n",
    "Se você deseja apenas um arquivo com a base de dados, volte para o seu terminal(crtl+C interrompe o processo mongo) e digite o seguinte comando:\n",
    "\n",
    "##### Para obter .json (recomendado)\n",
    "mongoexport --db {seu_banco} --collection {sua_coleção} --out {diretorio/nome_do_seu_arquivo}.json\n",
    "\n",
    "##### Para obter .csv \n",
    "mongoexport --db {seu_banco} --collection {sua_coleção} --type=csv --out {diretorio/nome_do_seu_arquivo}.csv\n",
    "\n",
    "Existem opções mais específicas não citadas aqui, como obter apenas alguns campos da tabela. Aqui está a documentação do MongoDB, caso queria usar mais alguma função não apresentada aqui. https://docs.mongodb.com/manual/tutorial/getting-started/"
   ]
  },
  {
   "cell_type": "code",
   "execution_count": null,
   "metadata": {
    "collapsed": true
   },
   "outputs": [],
   "source": [
    "# -*- coding: utf-8 -*-\n",
    "import tweepy\n",
    "import pymongo\n",
    "import json\n",
    "import sys\n",
    "import time"
   ]
  },
  {
   "cell_type": "markdown",
   "metadata": {},
   "source": [
    "# StdOutListener() e TimerBackOffToStream()\n",
    "\n",
    "As duas classes foram feitas para garantir a conexão à API do twitter e configurar as escolhas de coleta(arquivo de log, banco de dados e coleção). Não se preocupe em configurar nada nelas, os métodos são apenas para garantir que os dados sejam salvos corretamente no banco e nossas credenciais não sejam bloqueadas pela API por excesso de tentativas de acesso."
   ]
  },
  {
   "cell_type": "markdown",
   "metadata": {},
   "source": [
    "## StdOutListener\n",
    "\n",
    "Métodos para configurar arquivo de log, banco de dados e coleção do banco. As suas escolhas personalizadas devem ser alteradas na função main."
   ]
  },
  {
   "cell_type": "code",
   "execution_count": null,
   "metadata": {
    "collapsed": true
   },
   "outputs": [],
   "source": [
    "class StdOutListener(tweepy.StreamListener):\n",
    "\n",
    "    def __init__(self):\n",
    "        self.logFile = \"\"\n",
    "        self.collection = \"\"\n",
    "        self.backOff = None\n",
    "\n",
    "    def setLogFile(self, arq):\n",
    "        self.logFile = arq\n",
    "\n",
    "    def closeLogFile(self):\n",
    "        if ((self.logFile is not None) and (self.logFile != \"\")):\n",
    "            self.logFile.close()\n",
    "\n",
    "    def setCollection(self, collection):\n",
    "        self.collection = collection\n",
    "\n",
    "    def setTimerBackOffToStream(self, backOff):\n",
    "        self.backOff = backOff\n",
    "\n",
    "    def on_data(self, data):\n",
    "        if(self.collection == \"\"):\n",
    "            print(\"Error: use setCollection para definir uma colecao no mongo\")\n",
    "            return\n",
    "\n",
    "        data = json.loads(data)\n",
    "        self.collection.insert(data)\n",
    "        self.backOff.reiniciarContadorTentativas()\n",
    "\n",
    "    def on_error(self, status):\n",
    "        self.logFile.write(\"\\n\\nerror:\" + str(status))\n",
    "        self.backOff.timeReconexao(status)"
   ]
  },
  {
   "cell_type": "markdown",
   "metadata": {
    "collapsed": true
   },
   "source": [
    "## TimerBackOffToStream\n",
    "Marca o tempo de espera até fazer uma requisição após uma tentativa."
   ]
  },
  {
   "cell_type": "code",
   "execution_count": null,
   "metadata": {
    "collapsed": true
   },
   "outputs": [],
   "source": [
    "class TimerBackOffToStream(object):\n",
    "\n",
    "    def __init__(self):\n",
    "        self.tentativas = 1  # fator de multiplicacao\n",
    "\n",
    "    def timeReconexao(self, HTTPerror=0):\n",
    "        '''\n",
    "            Avoiding to block the user's IP or credentials.\n",
    "        '''\n",
    "        if (HTTPerror == 420):\n",
    "            time.sleep(60 * self.tentativas)\n",
    "        elif (self.tentativas == 1):\n",
    "            time.sleep(5)\n",
    "        else:\n",
    "            time.sleep(5 * self.tentativas * 2)\n",
    "        self.tentativas += 1\n",
    "\n",
    "    def setTentativas(self, incrementar):\n",
    "        self.tentativas += incrementar\n",
    "\n",
    "    def reiniciarContadorTentativas(self):\n",
    "        self.tentativas = 1"
   ]
  },
  {
   "cell_type": "markdown",
   "metadata": {
    "collapsed": true
   },
   "source": [
    "# Executando a Main\n",
    "\n",
    "Atenção! Não esqueça de preencher com as suas credenciais os campos:\n",
    "1. Consumer_key = \"\"\n",
    "2. Consumer_secret = \"\"\n",
    "3. Access_token = \"\"\n",
    "4. Access_token_secret = \"\"\n",
    "\n",
    "\n",
    "\n",
    "Você também precisa ficar atento e mudar algumas configurações a cada coleta *distinta* que você fizer. As linhas de código se referem ao banco de dados usado e as coleções dele.\n",
    "\n",
    "    Exemplo:\n",
    "1. db = mongo['Hashtags_Bolsonaro'] # banco mongo\n",
    "2. collection = db['BolsonaroInimigoDaEducação'] # uma única coleção\n",
    "\n",
    "Lembre-se que você pode ter diversas coleções no mesmo banco.\n",
    "\n",
    "\n",
    "\n",
    "# Linhas a alterar\n",
    "\n",
    "##### arquivo de log\n",
    "\n",
    "A sugestão é chamar o seu arquivo pelo mesmo nome da coleção no banco.\n",
    "\n",
    "1. arqLog = open(\"logSeuArquivoDeLog.txt\", \"a\")\n",
    "\n",
    "##### banco de dados\n",
    "\n",
    "Temos como exemplo um cenário em que se deseja coletar tweets que se relacionem com o atual presidente, Jair Bolsonaro. Esse banco vai guardar tweets com hashtags sobre o presidente.\n",
    "\n",
    "2. db = mongo['Hashtags_Bolsonaro']\n",
    "\n",
    "##### coleção do seu banco\n",
    "\n",
    "Essa é uma coleção que guarda vários tweets com a mesma hashtag. Para hashtags distintas o melhor é criar uma nova coleção no mesmo banco.\n",
    "\n",
    "3. collection = db['BolsonaroInimigoDaEducação']\n",
    "\n",
    "##### termo a ser buscado\n",
    "\n",
    "4. termos = ['#BolsonaroInimigoDaEducação']\n",
    "\n",
    "A busca não precisa ser somente por hashtags e você pode escolher mais de um termo. Ex: ['eleição', 'Candidato','#2018']"
   ]
  },
  {
   "cell_type": "code",
   "execution_count": 1,
   "metadata": {},
   "outputs": [
    {
     "ename": "NameError",
     "evalue": "name 'TimerBackOffToStream' is not defined",
     "output_type": "error",
     "traceback": [
      "\u001b[1;31m---------------------------------------------------------------------------\u001b[0m",
      "\u001b[1;31mNameError\u001b[0m                                 Traceback (most recent call last)",
      "\u001b[1;32m<ipython-input-1-478f16621736>\u001b[0m in \u001b[0;36m<module>\u001b[1;34m\u001b[0m\n\u001b[0;32m      6\u001b[0m     \u001b[0mAccess_token_secret\u001b[0m \u001b[1;33m=\u001b[0m \u001b[1;34m\"\"\u001b[0m\u001b[1;33m\u001b[0m\u001b[0m\n\u001b[0;32m      7\u001b[0m \u001b[1;33m\u001b[0m\u001b[0m\n\u001b[1;32m----> 8\u001b[1;33m     \u001b[0mbackOff\u001b[0m \u001b[1;33m=\u001b[0m \u001b[0mTimerBackOffToStream\u001b[0m\u001b[1;33m(\u001b[0m\u001b[1;33m)\u001b[0m\u001b[1;33m\u001b[0m\u001b[0m\n\u001b[0m\u001b[0;32m      9\u001b[0m     \u001b[0marqLog\u001b[0m \u001b[1;33m=\u001b[0m \u001b[0mopen\u001b[0m\u001b[1;33m(\u001b[0m\u001b[1;34m\"logSeuArquivoDeLog.txt\"\u001b[0m\u001b[1;33m,\u001b[0m \u001b[1;34m\"a\"\u001b[0m\u001b[1;33m)\u001b[0m\u001b[1;33m\u001b[0m\u001b[0m\n\u001b[0;32m     10\u001b[0m \u001b[1;33m\u001b[0m\u001b[0m\n",
      "\u001b[1;31mNameError\u001b[0m: name 'TimerBackOffToStream' is not defined"
     ]
    }
   ],
   "source": [
    "if __name__ == '__main__':\n",
    "\n",
    "    Consumer_key = \"\"\n",
    "    Consumer_secret = \"\"\n",
    "    Access_token = \"\"\n",
    "    Access_token_secret = \"\"\n",
    "\n",
    "    backOff = TimerBackOffToStream()\n",
    "    arqLog = open(\"logSeuArquivoDeLog.txt\", \"a\")\n",
    "\n",
    "    while (True):\n",
    "        try:\n",
    "            listen = StdOutListener()\n",
    "\n",
    "            mongo = pymongo.MongoClient()\n",
    "            db = mongo['Hashtags_Bolsonaro']\n",
    "            collection = db['BolsonaroInimigoDaEducação']\n",
    "\n",
    "            listen.setCollection(collection)\n",
    "            listen.setLogFile(arqLog)\n",
    "            listen.setTimerBackOffToStream(backOff)\n",
    "\n",
    "            auth = tweepy.OAuthHandler(Consumer_key, Consumer_secret)\n",
    "            auth.set_access_token(Access_token, Access_token_secret)\n",
    "            stream = tweepy.Stream(auth, listen)\n",
    "\n",
    "            termos = ['#BolsonaroInimigoDaEducação']\n",
    "\n",
    "            stream.filter(track=termos)\n",
    "\n",
    "        except:\n",
    "            print(\"except\")\n",
    "            arqLog.write(\"\\nError: Exception:\" + str(sys.exc_info()[0]))\n",
    "            backOff.timeReconexao()"
   ]
  },
  {
   "cell_type": "markdown",
   "metadata": {},
   "source": [
    "# Rodando localmente\n",
    "\n",
    "Para usar seu scraper baste digitar: python twitterStream_tweepy.py\n",
    "\n",
    "Você pode alterar o nome do arquivo se tiver a intenção de criar um pra cada coleta, ex: twitterStream_tweepyImpeachmentBolso.py"
   ]
  },
  {
   "cell_type": "markdown",
   "metadata": {},
   "source": [
    "# Carregando o dataset\n",
    "\n",
    "A partir deste ponto você pode seguir como quiser, fica aqui apenas uma sugestão de como carregar o dataset.\n",
    "\n",
    "Se você é minimamente familiar com a linguagem R, abra o Rstudio e digite no terminal dele os comandos abaixo.\n",
    "\n",
    "> install.packages(\"jsonlite\")\n",
    "\n",
    "> library(jsonlite)\n",
    "\n",
    "> nome_do_arquivo <- '/SeuLocalAqui/seuArquivo.json'\n",
    "\n",
    "> dataset <-jsonlite::stream_in(textConnection(readLines(nome_do_arquivo, n=1000)),verbose=F)\n",
    "\n",
    "Onde na última linha(dataset) o argumento \"n=1000\" do método readLines() se refere ao número máximo de linhas que você deseja visualizar, o que pode ser útil caso o dataset seja muito pesado e você não pretenda carregar tudo de uma vez."
   ]
  }
 ],
 "metadata": {
  "kernelspec": {
   "display_name": "Python 3",
   "language": "python",
   "name": "python3"
  },
  "language_info": {
   "codemirror_mode": {
    "name": "ipython",
    "version": 3
   },
   "file_extension": ".py",
   "mimetype": "text/x-python",
   "name": "python",
   "nbconvert_exporter": "python",
   "pygments_lexer": "ipython3",
   "version": "3.6.5"
  }
 },
 "nbformat": 4,
 "nbformat_minor": 2
}
