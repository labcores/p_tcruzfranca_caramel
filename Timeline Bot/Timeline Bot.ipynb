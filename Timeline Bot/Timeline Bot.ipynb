{
 "cells": [
  {
   "cell_type": "markdown",
   "metadata": {},
   "source": [
    "# botTimeline\n",
    "Bot Twitter que simula usuário vend tweets mensagens periodicamente. Esses tweets são capturados e salvos em um banco Mongo.\n",
    "\n",
    "Este notebook é um guia! Você vai precisar rodar localmente o código, mas não pule essa etapa, pois é muito importante entender como funciona a ferramenta e como manipular os dados que você coletar.\n",
    "\n",
    "# Configurando o Ambiente\n",
    "Pré-requisitos básicos:\n",
    "  1. Python3.x, pip3 e mongoDB instalados.\n",
    "  2. Clone o projeto em https://github.com/tcruzfranca/botTimeline.\n",
    "  3. Baixe o Driver do navegador Chrome(verifique sua versão) em: http://chromedriver.chromium.org/downloads.\n",
    "  4. Faça uma cópia do ChromeDrive na mesma pasta onde está o projeto\n",
    "  5. Instale ou atualize o seu Google Chrome para a versão mais recente.\n",
    "  6. Instale as dependências (se estiver no Linux, você pode precisar instalar como superusuário): \n",
    "      \n",
    "    pip3 install requirements.txt\n",
    "\n",
    "# Criando um Bot\n",
    "\n",
    "Será necessário criar um arquivo de configuração com parâmetros básicos para o bot (veja o arquivo de exemplo \"botParams.txt\"):\n",
    "          #timeoutNavegador in seconds\n",
    "          timeoutNavegador = 30\n",
    "\n",
    "          #timeToLogIn in seconds\n",
    "          timeToLogIn = 3\n",
    "\n",
    "          user = \"seu_usuario_no_twitter\"\n",
    "          password = \"senha_usuario_twitter\"\n",
    "\n",
    "          #timeToLoadTheTimeLine in seconds\n",
    "          timeToLoadTheTimeLine = 3\n",
    "\n",
    "          #Mongo params\n",
    "          db = \"nnome_banco_mongo\"\n",
    "          collection = \"colecao_mongo\"\n",
    "\n",
    "          #amountOfTweets max 35 a 38\n",
    "          amountOfTweets = 20\n",
    "\n",
    "          #intervalo entre coletas em segundos (1200sec, ou seja, 20 min no exemplo)\n",
    "          botSleepTime = 1200\n",
    "\n",
    "\n",
    "O arquivo com as configurações do bot precisa ter os seguintes campos obrigatórios: timeoutNavegador, timeToLogIn, user, timeToLoadTheTimeLine, db, collection, amountOfTweets e botSleepTime. Não existem parâmetros opcionais.\n",
    "Linhas que iniciam \"#\" são comentários. Não serão lidas pelo arquivo de manipulação do bot.\n",
    "As linhas em branco serão ignoradas.\n",
    "\n",
    "Depois rode o comando:\n",
    "      \n",
    "      python3 timelineScrap.py.\n",
    "\n",
    "Ao rodar o arquivo você precisará fornecer o [path/arquivo_config_bot] do arquivo que contém as configurações do bot. Veja o exemplo abaixo de como será a mensagem apresentada:\n",
    "      \n",
    "      Arquivo de configuração com o path (ex: path/settings.txt): [path/arquivo_config_bot]\n",
    "\n",
    "O processo timelineScrap.py irá permanecer rodando até que seja interrompido pelo usuário."
   ]
  },
  {
   "cell_type": "markdown",
   "metadata": {
    "collapsed": true
   },
   "source": [
    "# Definindo um tweet\n"
   ]
  },
  {
   "cell_type": "markdown",
   "metadata": {},
   "source": [
    "   O primeiro passo a ser tomado é criar uma classe com todos os atributos de um Tweet que podem ser interessantes para qualquer tipo de análise, como a quantidade de likes ou retweets que uma publicação(Tweet) recebeu, a hora de envio, um código de identificação associado a esse Tweet e seu conteúdo."
   ]
  },
  {
   "cell_type": "code",
   "execution_count": 2,
   "metadata": {},
   "outputs": [
    {
     "data": {
      "text/plain": [
       "'\\n__author__ = \"Tiago Cruz de França\"\\n__copyright__ = \"Copyright 2018, UFRRJ\"\\n__credits__ = [\"Tiago França\"]\\n__license__ = \"GPL\"\\n__version__ = \"0.0.1\"\\n__maintainer__ = \"Tiago França, Edu Mangabeira\"\\n__email__ = \"tcruz.franca@gmail.com, edu.mangaba@gmail.com\"\\n__status__ = \"Test\"\\n\\n'"
      ]
     },
     "execution_count": 2,
     "metadata": {},
     "output_type": "execute_result"
    }
   ],
   "source": [
    "'''\n",
    "__author__ = \"Tiago Cruz de França\"\n",
    "__copyright__ = \"Copyright 2018, UFRRJ\"\n",
    "__credits__ = [\"Tiago França\"]\n",
    "__license__ = \"GPL\"\n",
    "__version__ = \"0.0.1\"\n",
    "__maintainer__ = \"Tiago França, Edu Mangabeira\"\n",
    "__email__ = \"tcruz.franca@gmail.com, edu.mangaba@gmail.com\"\n",
    "__status__ = \"Test\"\n",
    "\n",
    "'''"
   ]
  },
  {
   "cell_type": "code",
   "execution_count": 3,
   "metadata": {
    "collapsed": true
   },
   "outputs": [],
   "source": [
    "class Tweet(object):\n",
    "    \n",
    "    def __init__(self, id_tweet,text,amount_of_comments,amount_of_likes, amount_of_retweets,created_at,screen_name, publisher_id, publisher_screen_name,snapshot_id,snapshot_timestamp,impression_order):\n",
    "        '''\n",
    "            @attributes:\n",
    "                id_tweet: The tweet's Id.\n",
    "                tweet_text: The catched up text.\n",
    "                retweet_count: The amout of times the tweet was republished.\n",
    "                tweet_created_at: The data when the message was published.                \n",
    "                bot_screen_name: The user's Twitter name. E.g. @botPalestrinha\n",
    "                publisher_screen_name: the author of the tweet.                                   \n",
    "        \n",
    "        '''\n",
    "        self.id_tweet = id_tweet\n",
    "        self.tweet_text = text\n",
    "        self.tweet_amount_of_comments = amount_of_comments#\n",
    "        self.tweet_amount_of_likes = amount_of_likes\n",
    "        self.retweet_count = amount_of_retweets\n",
    "        self.tweet_created_at = created_at\n",
    "        self.bot_screen_name = screen_name\n",
    "        self.publisher_id = publisher_id\n",
    "        self.publisher_screen_name = publisher_screen_name\n",
    "        self.snapshot_id = snapshot_id\n",
    "        self.snapshot_timestamp = snapshot_timestamp\n",
    "        self.impression_order = impression_order"
   ]
  },
  {
   "cell_type": "markdown",
   "metadata": {},
   "source": [
    "# Conhecendo as funcionalidades do bot"
   ]
  },
  {
   "cell_type": "markdown",
   "metadata": {},
   "source": [
    "Vamos começar importando as bibliotecas, que serão explicadas mais à frente."
   ]
  },
  {
   "cell_type": "code",
   "execution_count": 4,
   "metadata": {},
   "outputs": [
    {
     "ename": "ModuleNotFoundError",
     "evalue": "No module named 'pymongo'",
     "output_type": "error",
     "traceback": [
      "\u001b[1;31m---------------------------------------------------------------------------\u001b[0m",
      "\u001b[1;31mModuleNotFoundError\u001b[0m                       Traceback (most recent call last)",
      "\u001b[1;32m<ipython-input-4-b4ee9f1dfa74>\u001b[0m in \u001b[0;36m<module>\u001b[1;34m\u001b[0m\n\u001b[0;32m      6\u001b[0m \u001b[1;32mimport\u001b[0m \u001b[0mtime\u001b[0m\u001b[1;33m\u001b[0m\u001b[0m\n\u001b[0;32m      7\u001b[0m \u001b[1;32mimport\u001b[0m \u001b[0mre\u001b[0m\u001b[1;33m\u001b[0m\u001b[0m\n\u001b[1;32m----> 8\u001b[1;33m \u001b[1;32mimport\u001b[0m \u001b[0mpymongo\u001b[0m\u001b[1;33m\u001b[0m\u001b[0m\n\u001b[0m\u001b[0;32m      9\u001b[0m \u001b[1;32mimport\u001b[0m \u001b[0mdatetime\u001b[0m\u001b[1;33m\u001b[0m\u001b[0m\n",
      "\u001b[1;31mModuleNotFoundError\u001b[0m: No module named 'pymongo'"
     ]
    }
   ],
   "source": [
    "from selenium import webdriver\n",
    "from selenium.webdriver.common.keys import Keys\n",
    "from selenium.webdriver.common.by import By\n",
    "from Tweet import Tweet\n",
    "import json\n",
    "import time\n",
    "import re\n",
    "import pymongo\n",
    "import datetime"
   ]
  },
  {
   "cell_type": "markdown",
   "metadata": {},
   "source": [
    "A função abaixo é a de extração textual. Salva o texto do nosso tweet descartando caracteres irrelevantes usando expressões regulares(bilioteca 're') e removendo espaços em branco no início e/ou final do tweet com strip() "
   ]
  },
  {
   "cell_type": "code",
   "execution_count": 5,
   "metadata": {
    "collapsed": true
   },
   "outputs": [],
   "source": [
    "def extraindoApenasTexto(tweet_texto):\n",
    "    \n",
    "    texto = re.sub('<[^>]*>',\" \",tweet_texto)\n",
    "    texto = re.sub('\\s+',' ',texto)\n",
    "    texto = texto.strip()\n",
    "    return texto"
   ]
  },
  {
   "cell_type": "markdown",
   "metadata": {},
   "source": [
    "A partir daqui será importante o uso do webdriver, que irá abrir um navegador de forma isolada, sem que dados(cookies, histórico) da sua conta google padrão, por exemplo, interfiram no comportamento do seu bot."
   ]
  },
  {
   "cell_type": "code",
   "execution_count": 8,
   "metadata": {
    "collapsed": true
   },
   "outputs": [],
   "source": [
    "def getDriverOnTwitter(timeout):\n",
    "    # cria uma nova sessão isolada\n",
    "    driver = webdriver.Chrome(\"./chromedriver\")\n",
    "    driver.implicitly_wait(timeout)#30 segundos para iniciar o browser\n",
    "    driver.maximize_window()#maximiza tela ao iniciar\n",
    "    # Navega até a página inicial do twitter\n",
    "    driver.get(\"https://twitter.com\")    \n",
    "    return driver"
   ]
  },
  {
   "cell_type": "markdown",
   "metadata": {},
   "source": [
    "Agora com um browser em execução, é necessário fazer login com a conta do nosso bot. Usaremos o Selenium\n",
    "para procurar elementos no código fonte da página e interagir com eles, tanto para o login quanto para\n",
    "as próximas etapas que envolvem coletar os dados de um tweet presente na timeline de nosso bot."
   ]
  },
  {
   "cell_type": "code",
   "execution_count": 10,
   "metadata": {
    "collapsed": true
   },
   "outputs": [],
   "source": [
    "def fazerLogin(usuario,senha,driver):\n",
    "\n",
    "    user = driver.find_element_by_name('session[username_or_email]')\n",
    "    user.clear()\n",
    "    user.send_keys(usuario)\n",
    "\n",
    "    password = driver.find_element_by_name('session[password]')\n",
    "    password.clear()\n",
    "    password.send_keys(senha)\n",
    "\n",
    "    password.submit()#Simula o uso do botão enter após entrar com a senha\n"
   ]
  },
  {
   "cell_type": "markdown",
   "metadata": {},
   "source": [
    "O screen_name é o username de um usuário. exemplo: \"@bot235\"."
   ]
  },
  {
   "cell_type": "code",
   "execution_count": null,
   "metadata": {
    "collapsed": true
   },
   "outputs": [],
   "source": [
    "def getBotScreenName(driver):\n",
    "    # currently on result page using find_elements_by_class_name method\n",
    "    lists = driver.find_elements_by_class_name('u-linkComplex-target')\n",
    "\n",
    "    bot_screen_name = \"\"\n",
    "    for listitem in lists:\n",
    "        if (listitem.get_attribute(\"class\") == \"u-linkComplex-target\"):\n",
    "            bot_screen_name = listitem.get_attribute(\"innerHTML\")\n",
    "            \n",
    "            break\n",
    "    return bot_screen_name"
   ]
  },
  {
   "cell_type": "markdown",
   "metadata": {},
   "source": [
    "A próxima função foi feita para seguir automaticamente contas a serem predefinidas no arquivo \"sources.txt\", você precisa inserir o screen_name das contas que deseja seguir no Twitter.\n",
    "\n",
    "Atenção!!! O uso dessa função é recomendado apenas caso você ainda não tenha seguido todas as fontes, ela percorre toda a lista de nomes, então é aconselhável que você use apenas na primeira vez que for executar e depois a desative. Você pode fazer isso comentando todo o bloco ou escrevendo a diretiva \"pass\" no final da função.\n",
    "\n",
    "Pode levar algum tempo para seguir todas as fontes, visto que existe um timer(time.sleep()) para controlar o acesso\n",
    "e reduzir a chance do bot ser derrubado pelo twitter. Tenha paciência e não extrapole o limite de requisições da plataforma.\n",
    "\n",
    "Outro ponto importante:e m vez de usar um \"número mágico\" como 48(Era o número de fontes que eu segui para uma pesquisa), você pode definir o seu próprio limite de quantos usuários o bot vai seguir."
   ]
  },
  {
   "cell_type": "code",
   "execution_count": 13,
   "metadata": {
    "collapsed": true
   },
   "outputs": [],
   "source": [
    "def FollowsUser(driver):\n",
    "\n",
    "    # follow_bound = seu_numero_aqui\n",
    "    follow_list = {}\n",
    "    follow_arc = open(\"FollowCount.txt\",'w')\n",
    "    for linha in follow_arc:\n",
    "            texto = re.sub('#+[\\s\\S]*',\"\",linha)\n",
    "            texto = texto.strip()\n",
    "            if len(texto) > 0:\n",
    "                \n",
    "                key,value = texto.split(\"=\")\n",
    "                key = key.strip()\n",
    "                value = int(value.strip())\n",
    "\n",
    "                parametros[key]=value\n",
    "\n",
    "            if(value < 48): #substituir 48 por follow_bound\n",
    "                users_list = open('sources.txt','r')\n",
    "                for user in users_list:\n",
    "                    user = user.replace(\"\\n\",\"\")\n",
    "                    driver.get(\"https://twitter.com/%s\" % user)\n",
    "                    time.sleep(5)\n",
    "                    try:\n",
    "                        follow_button = driver.find_element(By.CSS_SELECTOR,\"button.EdgeButton.EdgeButton--secondary.EdgeButton--medium.button-text.follow-text\")\n",
    "                        follow_button.click()\n",
    "                        value += 1\n",
    "                    except:\n",
    "                        if (follows == 48): #substituir 48 por follow_bound\n",
    "                            print(\"Already follows all\") #indica que todas as contas foram seguidas\n",
    "                            break\n",
    "                            time.sleep(10)\n",
    "                    follow_arc.close()\n",
    "    follow_list.close()\n",
    "    #pass"
   ]
  },
  {
   "cell_type": "markdown",
   "metadata": {},
   "source": [
    "Lembra que definimos uma classe com os atributos de um tweet? É preciso coletar no código fonte de um tweet todas essas informações importantes antes de associá-las à classe. Os atributos são coletados pelo Selenium e a função que definimos anteriormente(extraindoApenasTexto(tweet_texto)) vai limpar o texto do tweet."
   ]
  },
  {
   "cell_type": "code",
   "execution_count": null,
   "metadata": {},
   "outputs": [],
   "source": [
    "def criandoTweet(li,order,attributes_to_wrapped_tweet=[]):#eu pego tudo a partir de um element li\n",
    "\n",
    "    _id = li.get_attribute(\"data-item-id\")\n",
    "    text = li.find_element(By.CSS_SELECTOR,\"p.TweetTextSize.js-tweet-text.tweet-text\").get_attribute(\"innerHTML\")        \n",
    "    text = extraindoApenasTexto(text)\n",
    "\n",
    "    amount_of_comments = li.find_element_by_class_name(\"ProfileTweet-actionCountForPresentation\").get_attribute(\"innerHTML\")\n",
    "    amount_of_likes = li.find_element_by_class_name(\"ProfileTweet-actionCountForPresentation\").get_attribute(\"innerHTML\")\n",
    "    amount_of_retweets = li.find_element_by_class_name(\"ProfileTweet-actionCountForPresentation\").get_attribute(\"innerHTML\")\n",
    "    timestamp = li.find_element(By.CSS_SELECTOR,\"a.tweet-timestamp.js-permalink.js-nav.js-tooltip\").get_attribute(\"title\")\n",
    "\n",
    "    publisher_id = li.find_element(By.CSS_SELECTOR,\"a.account-group.js-account-group.js-action-profile.js-user-profile-link.js-nav\").get_attribute(\"data-user-id\")\n",
    "    publisher_name = li.find_element(By.CSS_SELECTOR, \"span.username.u-dir.u-textTruncate\").find_element_by_tag_name(\"b\").get_attribute(\"innerHTML\")\n",
    "\n",
    "    bot_screen_name = attributes_to_wrapped_tweet[0]\n",
    "    snapshot_id = attributes_to_wrapped_tweet[1]\n",
    "    snapshot_timestamp = attributes_to_wrapped_tweet[2]\n",
    "    impression_order = order\n",
    "\n",
    "    tweet = Tweet(_id,text,amount_of_comments,amount_of_likes,amount_of_retweets,timestamp,bot_screen_name,publisher_id,publisher_name,snapshot_id,snapshot_timestamp,impression_order)\n",
    "\n",
    "    return tweet"
   ]
  },
  {
   "cell_type": "code",
   "execution_count": null,
   "metadata": {
    "collapsed": true
   },
   "outputs": [],
   "source": [
    "def pegandoTweets(tweets_lis,collection,numTweets=20,attributes_to_wrapped_tweet=[]):\n",
    "\n",
    "    tweets = []\n",
    "    order = 0\n",
    "    for li in tweets_lis:\n",
    "        try:\n",
    "            tweet = criandoTweet(li,order,attributes_to_wrapped_tweet)\n",
    "\n",
    "            serializedTweet= json.dumps(tweet.__dict__)            \n",
    "            serializedTweet = json.loads(serializedTweet)\n",
    "\n",
    "            collection.insert_one(serializedTweet)\n",
    "\n",
    "            order += 1\n",
    "            \n",
    "            if (order == numTweets):\n",
    "                break\n",
    "              \n",
    "        except:\n",
    "            print (\"excecao em pegandoTweets\")"
   ]
  },
  {
   "cell_type": "markdown",
   "metadata": {},
   "source": [
    "Carrega os últimos tweets na pilha da timeline. Vai nos ajudar a pegar os tweets fornecendo o parâmetro tweet_lis, da função acima."
   ]
  },
  {
   "cell_type": "code",
   "execution_count": null,
   "metadata": {
    "collapsed": true
   },
   "outputs": [],
   "source": [
    "def pegandoTimeline(driver):\n",
    "    timeline = driver.find_elements(By.CSS_SELECTOR,\".stream\")#find_elements_by_class_name pode usar tb\n",
    "    element = timeline[0]\n",
    "    tweets_lis = element.find_elements(By.CSS_SELECTOR, \"li.js-stream-item.stream-item.stream-item\")#ou \n",
    "    return tweets_lis"
   ]
  },
  {
   "cell_type": "markdown",
   "metadata": {},
   "source": [
    "A função abaixo vai nos conectar ao banco de dados mongo e permitir o registro dos dados coletados(ainda chegaremos nessa etapa). O seu retorno será uma coleção a ser usada de parâmetro da função pegandoTweets.\n",
    "\n",
    "Agora vai uma explicação rápida sobre o banco mongo, você pode pular essa parte por enquanto, pois só vai poder testar depois que todo o código for executado e os dados obtidos.\n",
    "\n",
    "1) Para iniciar no seu terminal, basta digitar 'mongo'.\n",
    "\n",
    "2) Primeiro é preciso ver quais bancos estão sendo usados na sua máquina, o comando a ser usado é 'show dbs'.\n",
    "\n",
    "3) Para usar um banco: 'use {insira aqui um banco, sem chaves}'\n",
    "\n",
    "4) Agora temos que selecionar uma coleção do nosso banco, para ver as coleções: 'show collections'.\n",
    "\n",
    "5) Existem diferentes formas de acessar os dados, vou citar algumas.\n",
    "\n",
    " 5.1) 'db.{sua collection}.find()' mostra alguns tweets, é útil para verificar rapidamente erros em parâmetros. Também é possível filtrar a procura, para saber com mais detalhes veja em: https://docs.mongodb.com/manual/reference/method/db.collection.find/\n",
    " \n",
    " 5.2) 'db.{sua collection}.findOne()' mostra apenas um tweet e também pode filtrar a busca(recomendado nesse caso).\n",
    "    \n",
    "Se você deseja apenas um arquivo com a base de dados, volte para o seu terminal(crtl+C interrompe o processo mongo) e digite o seguinte comando:\n",
    "\n",
    "#### Para obter .json\n",
    "\n",
    "mongoexport --db {seu_banco} --collection {sua_coleção} --out {diretorio/nome_do_seu_arquivo}.json\n",
    "\n",
    "#### Para obter .csv\n",
    "\n",
    "mongoexport --db {seu_banco} --collection {sua_coleção} --type=csv --out {diretorio/nome_do_seu_arquivo}.csv\n",
    "\n",
    "Existem opções mais específicas não citadas aqui, como obter apenas alguns campos da tabela. Aqui está a documentação do MongoDB, caso queria usar mais alguma função não apresentada aqui.\n",
    "https://docs.mongodb.com/manual/tutorial/getting-started/"
   ]
  },
  {
   "cell_type": "code",
   "execution_count": 14,
   "metadata": {
    "collapsed": true
   },
   "outputs": [],
   "source": [
    "def getMongoCollection(db,col):\n",
    "    mongo = pymongo.MongoClient()\n",
    "    db = mongo[db]\n",
    "    col = db[col]\n",
    "    return col"
   ]
  },
  {
   "cell_type": "markdown",
   "metadata": {},
   "source": [
    "O snapshot marca o momento em que o dado foi coletado. Pode ser útil cruzar essa informação com a data de publicação de um tweet, por exemplo."
   ]
  },
  {
   "cell_type": "code",
   "execution_count": 15,
   "metadata": {
    "collapsed": true
   },
   "outputs": [],
   "source": [
    "def obterLastSnapshotId(collection):\n",
    "    try:\n",
    "        register = collection.find({},{\"_id\":0,\"snapshot_id\":1}).sort(\"snapshot_id\",pymongo.DESCENDING).limit(1)\n",
    "        register = register.next()\n",
    "        resultado = register[\"snapshot_id\"]\n",
    "    except:\n",
    "        print (\"except snapshot_id\")\n",
    "        resultado = 0\n",
    "\n",
    "    return resultado"
   ]
  },
  {
   "cell_type": "code",
   "execution_count": 1,
   "metadata": {
    "collapsed": true
   },
   "outputs": [],
   "source": [
    "# lê o arquivo com as suas configurações\n",
    "def getParametrosBot(arquivo):\n",
    "\n",
    "    parametros = {}\n",
    "    for linha in arquivo:\n",
    "        texto = re.sub('#+[\\s\\S]*',\"\",linha)\n",
    "        texto = texto.strip()\n",
    "        if len(texto) > 0:\n",
    "            \n",
    "            chave,valor = texto.split(\"=\")\n",
    "            chave = chave.strip()\n",
    "            valor = valor.strip()\n",
    "            \n",
    "            parametros[chave]=valor\n",
    "\n",
    "    return parametros"
   ]
  },
  {
   "cell_type": "markdown",
   "metadata": {},
   "source": [
    "# Coletador\n",
    "\n",
    "#### Atenção! só rode essa função se você quiser que um ÚNICO bot abra UM navegador."
   ]
  },
  {
   "cell_type": "code",
   "execution_count": null,
   "metadata": {},
   "outputs": [],
   "source": [
    "def rodarColetador(arquivo):\n",
    "\n",
    "    arquivo = open(arquivo)\n",
    "    parametros = getParametrosBot(arquivo)\n",
    "\n",
    "    collection = getMongoCollection(parametros['db'],parametros['collection'])\n",
    "\n",
    "    #verificando se existem outros ids no banco de coletas anteriores\n",
    "    snapshot_id = obterLastSnapshotId(collection)\n",
    "        \n",
    "    driver = getDriverOnTwitter(parametros['timeoutNavegador'])\n",
    "    time.sleep(int(parametros['timeToLogIn']))\n",
    "    user = parametros['user']\n",
    "    password = parametros['password']\n",
    "    fazerLogin(user,password,driver)\n",
    "    #waiting the user login before catch the desired fields\n",
    "    time.sleep(int(parametros['timeToLoadTheTimeLine']))\n",
    "    bot_screen_name = getBotScreenName(driver)\n",
    "\n",
    "    #bot_follow_count = parametros['botFollowCount']\n",
    "    #verifies whether the bot follows all users or not\n",
    "    #FollowsUser(driver)\n",
    "\n",
    "    while True:\n",
    "\n",
    "        tweets_lis = pegandoTimeline(driver)\n",
    "        \n",
    "        snapshot_id += 1\n",
    "        snapshot_timestamp = datetime.datetime.utcnow().strftime(\"%a %b %d %H:%M:%S +0000 %Y\")\n",
    "        \n",
    "        attributes_to_wrapped_tweet = [bot_screen_name,snapshot_id,snapshot_timestamp]\n",
    "        \n",
    "        pegandoTweets(tweets_lis,collection,int(parametros['amountOfTweets']),attributes_to_wrapped_tweet)\n",
    "        \n",
    "        #colocando o bot para dormir\n",
    "        time.sleep(int(parametros['botSleepTime']))\n",
    "        #\n",
    "        try:\n",
    "            print(\"atualiza?\")\n",
    "            driver.find_element(By.CSS_SELECTOR,\"button.new-tweets-bar.js-new-tweets-bar\").click()\n",
    "            print (\"atualizou\")\n",
    "        except:\n",
    "            continue\n",
    "\n",
    "if __name__ == '__main__':\n",
    "\n",
    "    arquivo = input(\"Arquivo de configuração com o path (ex: path/settings.txt):\")\n",
    "    rodarColetador(arquivo)"
   ]
  },
  {
   "cell_type": "markdown",
   "metadata": {},
   "source": [
    "# Rodando Múltiplos Bots em Processos Paralelos\n",
    "Também é possível rodar vários bots. Cada um deles irá abrir um novo navegador em sessões distintas (isoladas). Dessa forma, você pode rodar diferentes bots paralelamente. Os bots criados também serão associados a processos distintos. Você deve ter cuidado com a memória consumida por cada processo individual e por todos juntos (a soma do uso dos recursos individualmente). Esses processos podem usar todos os núcleos do seu processador (o sistema operacional irá controlar isso), pois não foi incluída nenhuma restrição no script de paralelização dos bots.\n",
    "\n",
    "Rodando múltiplos bots como processos autônomos:\n",
    "  1. Crie todos os arquivos de configuração conforme descrito em \"Criando um Bot\". Cada bot precisa ter um arquivo distinto (veja o exemplo \"botParams.txt\").\n",
    "  2. Em um novo arquivo, adicione os arquivos com as configuração dos bots (um por linha). Por exemplo, considere que existem dois arquivos de configuração de bot (botParams1.txt e botParams2.txt). O arquivo para múltiplos bots deve informar cada arquivo de configuração (um por linha) como segue (veja o exemplo \"listaArquivos.txt\"):\n",
    "  \n",
    "          path/testeParms.txt\n",
    "          path/testeParms2.txt\n",
    "  \n",
    "  3. Rode o comando multTimelineScrap.py.\n",
    "          \n",
    "          python3 multTimelineScrap.py\n",
    "  \n",
    "  4. Você precisará informar o arquivo que aponta para todas as configurações de bot.\n",
    "       \n",
    "          Arquivo com lista de configuracoes:[path/botsSettings.txt]\n",
    "\n",
    "O script irá criar um scraper bot para cada arquivo de configuração de bot listado. Ou seja, se você informar \"1\", será um bot. Se informar \"2\", serão dois. Se informar \"10\", serão dez bots, etc. Os bots permanecerão rodando até que o seu processo associado ao multTimelineScrap.py sejá interrompido pelo usuário (ou o navegador aberto pelos bots seja fechado).\n"
   ]
  },
  {
   "cell_type": "code",
   "execution_count": null,
   "metadata": {},
   "outputs": [],
   "source": [
    "from multiprocessing import Pool\n",
    "import timelineScrap\n",
    "\n",
    "__author__ = \"Tiago Cruz de França\"\n",
    "__copyright__ = \"Copyright 2018, UFRRJ\"\n",
    "__credits__ = [\"Tiago França\"]\n",
    "__license__ = \"GPL\"\n",
    "__version__ = \"0.0.1\"\n",
    "__maintainer__ = \"Tiago França, Edu Mangabeira\"\n",
    "__email__ = \"tcruz.franca@gmail.com\"\n",
    "__status__ = \"Test\"\n",
    "\n",
    "if __name__ == '__main__':\n",
    "\n",
    "    listaArquivos = input(\"Arquivo com lista de configuracoes:\")\n",
    "    listaArquivos = open(listaArquivos)\n",
    "    #resp = input(\"Deseja seguir mais usuários do Twitter?  s - sim  n - não\")\n",
    "    #cont = timelineScrap.getFollowIsFalse(resp)\n",
    "\n",
    "    \n",
    "    arquivos = []\n",
    "    for arquivo in listaArquivos:\n",
    "        arquivo = arquivo.replace(\"\\n\",\"\")\n",
    "        #arquivo = open(arquivo)\n",
    "        arquivos.append(arquivo)\n",
    "    \n",
    "    with Pool() as p:\n",
    "        p.map(timelineScrap.rodarColetador,arquivos)    \n",
    "    print (\"rodando\")"
   ]
  },
  {
   "cell_type": "markdown",
   "metadata": {},
   "source": [
    "# Carregando o dataset\n",
    "\n",
    "A partir deste ponto você pode seguir como quiser, fica aqui apenas uma sugestão de como carregar o dataset.\n",
    "\n",
    "Se você é minimamente familiar com a linguagem R, abra o Rstudio e digite no terminal dele os comandos abaixo.\n",
    "\n",
    "> install.packages(\"jsonlite\")\n",
    "\n",
    "> library(jsonlite)\n",
    "\n",
    "> nome_do_arquivo <- '/SeuLocalAqui/seuArquivo.json'\n",
    "\n",
    "> dataset <-jsonlite::stream_in(textConnection(readLines(nome_do_arquivo, n=1000)),verbose=F)\n",
    "\n",
    "Onde na última linha(dataset) o argumento \"n=1000\" do método readLines() se refere ao número máximo de linhas que você deseja visualizar, o que pode ser útil caso o dataset seja muito pesado e você não pretenda carregar tudo de uma vez."
   ]
  }
 ],
 "metadata": {
  "kernelspec": {
   "display_name": "Python 3",
   "language": "python",
   "name": "python3"
  },
  "language_info": {
   "codemirror_mode": {
    "name": "ipython",
    "version": 3
   },
   "file_extension": ".py",
   "mimetype": "text/x-python",
   "name": "python",
   "nbconvert_exporter": "python",
   "pygments_lexer": "ipython3",
   "version": "3.6.5"
  }
 },
 "nbformat": 4,
 "nbformat_minor": 2
}
